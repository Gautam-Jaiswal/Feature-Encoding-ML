{
 "cells": [
  {
   "cell_type": "code",
   "execution_count": null,
   "id": "d126d540",
   "metadata": {},
   "outputs": [],
   "source": [
    "import numpy as np\n",
    "import pandas as pd \n",
    "import matplotlib.pyplot as plt\n",
    "import seaborn as sns"
   ]
  },
  {
   "cell_type": "code",
   "execution_count": null,
   "id": "66605692",
   "metadata": {},
   "outputs": [],
   "source": [
    "df = pd.read_csv('train.csv')"
   ]
  },
  {
   "cell_type": "code",
   "execution_count": null,
   "id": "87a29c6f",
   "metadata": {},
   "outputs": [],
   "source": [
    "df.drop(axis=1, columns=['id'], inplace=True)"
   ]
  },
  {
   "cell_type": "code",
   "execution_count": null,
   "id": "eea3c3db",
   "metadata": {},
   "outputs": [],
   "source": [
    "df.shape"
   ]
  },
  {
   "cell_type": "code",
   "execution_count": null,
   "id": "d1d24988",
   "metadata": {},
   "outputs": [],
   "source": [
    "df.head()"
   ]
  },
  {
   "cell_type": "code",
   "execution_count": null,
   "id": "cbe10aa3",
   "metadata": {},
   "outputs": [],
   "source": [
    "df.columns"
   ]
  },
  {
   "cell_type": "code",
   "execution_count": null,
   "id": "de58a998",
   "metadata": {},
   "outputs": [],
   "source": [
    "bin_df = df[['bin_0', 'bin_1', 'bin_2', 'bin_3', 'bin_4']]\n",
    "nom_df = df[['nom_0', 'nom_1', 'nom_2', 'nom_3', 'nom_4', 'nom_5', 'nom_6', 'nom_7', 'nom_8', 'nom_9']]\n",
    "ord_df = df[['ord_0', 'ord_1', 'ord_2', 'ord_3', 'ord_4', 'ord_5']]\n",
    "date_df = df[['month', 'day']]"
   ]
  },
  {
   "cell_type": "code",
   "execution_count": null,
   "id": "5d33d4d6",
   "metadata": {},
   "outputs": [],
   "source": [
    "bin_df.isnull().values.any()"
   ]
  },
  {
   "cell_type": "code",
   "execution_count": null,
   "id": "3dbec3d2",
   "metadata": {},
   "outputs": [],
   "source": [
    "nom_df.isnull().values.any()"
   ]
  },
  {
   "cell_type": "code",
   "execution_count": null,
   "id": "cc58fb12",
   "metadata": {},
   "outputs": [],
   "source": [
    "ord_df.isnull().values.any()"
   ]
  },
  {
   "cell_type": "code",
   "execution_count": null,
   "id": "5551ea11",
   "metadata": {},
   "outputs": [],
   "source": [
    "date_df.isnull().values.any()"
   ]
  },
  {
   "cell_type": "markdown",
   "id": "3afee12c",
   "metadata": {},
   "source": [
    "# BIN DF"
   ]
  },
  {
   "cell_type": "code",
   "execution_count": null,
   "id": "4570b7b2",
   "metadata": {},
   "outputs": [],
   "source": [
    "bin_df['bin_0'].value_counts()"
   ]
  },
  {
   "cell_type": "code",
   "execution_count": null,
   "id": "4f05875c",
   "metadata": {},
   "outputs": [],
   "source": [
    "bin_df['bin_1'].value_counts()"
   ]
  },
  {
   "cell_type": "code",
   "execution_count": null,
   "id": "9137f066",
   "metadata": {},
   "outputs": [],
   "source": [
    "bin_df['bin_2'].value_counts()"
   ]
  },
  {
   "cell_type": "code",
   "execution_count": null,
   "id": "d7599cee",
   "metadata": {},
   "outputs": [],
   "source": [
    "bin_df['bin_3'].value_counts()"
   ]
  },
  {
   "cell_type": "code",
   "execution_count": null,
   "id": "34837faa",
   "metadata": {},
   "outputs": [],
   "source": [
    "bin_df['bin_4'].value_counts()"
   ]
  },
  {
   "cell_type": "code",
   "execution_count": null,
   "id": "3bf876dc",
   "metadata": {},
   "outputs": [],
   "source": [
    "bin_df = pd.get_dummies(data=bin_df , columns=['bin_3', 'bin_4'], drop_first=True)"
   ]
  },
  {
   "cell_type": "code",
   "execution_count": null,
   "id": "263467ff",
   "metadata": {},
   "outputs": [],
   "source": [
    "bin_df.head()"
   ]
  },
  {
   "cell_type": "markdown",
   "id": "771aae17",
   "metadata": {},
   "source": [
    "# Nom DF"
   ]
  },
  {
   "cell_type": "code",
   "execution_count": null,
   "id": "a0aaee0b",
   "metadata": {
    "scrolled": true
   },
   "outputs": [],
   "source": [
    "nom_df.head()"
   ]
  },
  {
   "cell_type": "code",
   "execution_count": null,
   "id": "1c2d9030",
   "metadata": {
    "scrolled": true
   },
   "outputs": [],
   "source": [
    "print(nom_df['nom_0'].value_counts())\n",
    "print(nom_df['nom_1'].value_counts())\n",
    "print(nom_df['nom_2'].value_counts())\n",
    "print(nom_df['nom_3'].value_counts())\n",
    "print(nom_df['nom_4'].value_counts())"
   ]
  },
  {
   "cell_type": "code",
   "execution_count": null,
   "id": "863f4976",
   "metadata": {
    "scrolled": true
   },
   "outputs": [],
   "source": [
    "print(nom_df['nom_5'].value_counts())\n",
    "print(nom_df['nom_6'].value_counts())\n",
    "print(nom_df['nom_7'].value_counts())\n",
    "print(nom_df['nom_8'].value_counts())\n",
    "print(nom_df['nom_9'].value_counts())"
   ]
  },
  {
   "cell_type": "code",
   "execution_count": null,
   "id": "a7e48f96",
   "metadata": {
    "scrolled": true
   },
   "outputs": [],
   "source": [
    "nom_df.drop(axis=1, inplace=True, columns=['nom_5','nom_6','nom_7','nom_8','nom_9'])"
   ]
  },
  {
   "cell_type": "code",
   "execution_count": null,
   "id": "320a2086",
   "metadata": {},
   "outputs": [],
   "source": [
    "nom_df.head()"
   ]
  },
  {
   "cell_type": "code",
   "execution_count": null,
   "id": "6e06a386",
   "metadata": {
    "scrolled": true
   },
   "outputs": [],
   "source": [
    "nom_0 = nom_df.groupby('nom_0')['nom_0'].count()\n",
    "dict_nom_0 = {}\n",
    "for i in nom_0.index:\n",
    "    dict_nom_0[i] = nom_0[i]\n",
    "\n",
    "nom_df.nom_0 = nom_df['nom_0'].map(dict_nom_0)"
   ]
  },
  {
   "cell_type": "code",
   "execution_count": null,
   "id": "4baafe70",
   "metadata": {},
   "outputs": [],
   "source": [
    "nom_1 = nom_df.groupby('nom_1')['nom_1'].count()\n",
    "dict_nom_1 = {}\n",
    "for i in nom_1.index:\n",
    "    dict_nom_1[i] = nom_1[i]\n",
    "nom_df.nom_1 = nom_df['nom_1'].map(dict_nom_1)"
   ]
  },
  {
   "cell_type": "code",
   "execution_count": null,
   "id": "c2cdf587",
   "metadata": {},
   "outputs": [],
   "source": [
    "nom_2 = nom_df.groupby('nom_2')['nom_2'].count()\n",
    "dict_nom_2 = {}\n",
    "for i in nom_2.index:\n",
    "    dict_nom_2[i] = nom_2[i]\n",
    "nom_df.nom_2 = nom_df['nom_2'].map(dict_nom_2)"
   ]
  },
  {
   "cell_type": "code",
   "execution_count": null,
   "id": "be5a8f81",
   "metadata": {},
   "outputs": [],
   "source": [
    "nom_3 = nom_df.groupby('nom_3')['nom_3'].count()\n",
    "\n",
    "dict_nom_3 = {}\n",
    "for i in nom_3.index:\n",
    "    dict_nom_3[i] = nom_3[i]\n",
    "nom_df.nom_3 = nom_df['nom_3'].map(dict_nom_3)"
   ]
  },
  {
   "cell_type": "code",
   "execution_count": null,
   "id": "fd0d1d53",
   "metadata": {},
   "outputs": [],
   "source": [
    "nom_4 = nom_df.groupby('nom_4')['nom_4'].count()\n",
    "\n",
    "dict_nom_4 = {}\n",
    "for i in nom_4.index:\n",
    "    dict_nom_4[i] = nom_4[i]\n",
    "nom_df.nom_4 = nom_df['nom_4'].map(dict_nom_4)"
   ]
  },
  {
   "cell_type": "code",
   "execution_count": null,
   "id": "fb85639f",
   "metadata": {},
   "outputs": [],
   "source": [
    "nom_df.head()"
   ]
  },
  {
   "cell_type": "markdown",
   "id": "e94061ef",
   "metadata": {},
   "source": [
    "# ORD DF"
   ]
  },
  {
   "cell_type": "code",
   "execution_count": null,
   "id": "d7df00be",
   "metadata": {
    "scrolled": true
   },
   "outputs": [],
   "source": [
    "print(ord_df['ord_0'].value_counts())\n",
    "print(ord_df['ord_1'].value_counts())\n",
    "print(ord_df['ord_2'].value_counts())\n",
    "print(ord_df['ord_3'].value_counts())\n",
    "print(ord_df['ord_4'].value_counts())\n",
    "print(ord_df['ord_5'].value_counts())"
   ]
  },
  {
   "cell_type": "code",
   "execution_count": null,
   "id": "6f4cf014",
   "metadata": {},
   "outputs": [],
   "source": [
    "dict_ord_0 = {\n",
    "    1: 2,\n",
    "    2: 1,\n",
    "    3: 0\n",
    "}\n",
    "ord_df.ord_0 = ord_df['ord_0'].map(dict_ord_0)"
   ]
  },
  {
   "cell_type": "code",
   "execution_count": null,
   "id": "107b3f39",
   "metadata": {
    "scrolled": true
   },
   "outputs": [],
   "source": [
    "ord_1 = ord_df.groupby('ord_1')['ord_1'].count()\n",
    "dict_ord_1 = {}\n",
    "for i in ord_1.index:\n",
    "    dict_ord_1[i] = ord_1[i]\n",
    "dict_ord_1"
   ]
  },
  {
   "cell_type": "code",
   "execution_count": null,
   "id": "121a1188",
   "metadata": {},
   "outputs": [],
   "source": [
    "ord_df.ord_1 = ord_df['ord_1'].map(dict_ord_1)"
   ]
  },
  {
   "cell_type": "code",
   "execution_count": null,
   "id": "7237c2ee",
   "metadata": {},
   "outputs": [],
   "source": [
    "ord_2 = ord_df.groupby('ord_2')['ord_2'].count()\n",
    "dict_ord_2 = {}\n",
    "for i in ord_2.index:\n",
    "    dict_ord_2[i] = ord_2[i]\n",
    "dict_ord_2"
   ]
  },
  {
   "cell_type": "code",
   "execution_count": null,
   "id": "290d711a",
   "metadata": {},
   "outputs": [],
   "source": [
    "ord_df.ord_2 = ord_df['ord_2'].map(dict_ord_2)"
   ]
  },
  {
   "cell_type": "code",
   "execution_count": null,
   "id": "260c0b53",
   "metadata": {
    "scrolled": true
   },
   "outputs": [],
   "source": [
    "ord_3 = ord_df.groupby('ord_3')['ord_3'].count()\n",
    "\n",
    "dict_ord_3 = {}\n",
    "for i in ord_3.index:\n",
    "    dict_ord_3[i] = ord_3[i]\n",
    "dict_ord_3"
   ]
  },
  {
   "cell_type": "code",
   "execution_count": null,
   "id": "95496a9c",
   "metadata": {},
   "outputs": [],
   "source": [
    "ord_df.ord_3 = ord_df['ord_3'].map(dict_ord_3)"
   ]
  },
  {
   "cell_type": "code",
   "execution_count": null,
   "id": "6e136e1b",
   "metadata": {
    "scrolled": true
   },
   "outputs": [],
   "source": [
    "ord_4 = ord_df.groupby('ord_4')['ord_4'].count()\n",
    "\n",
    "dict_ord_4 = {}\n",
    "for i in ord_4.index:\n",
    "    dict_ord_4[i] = ord_4[i]\n",
    "dict_ord_4"
   ]
  },
  {
   "cell_type": "code",
   "execution_count": null,
   "id": "e66f45e8",
   "metadata": {},
   "outputs": [],
   "source": [
    "ord_df.ord_4 = ord_df['ord_4'].map(dict_ord_4)"
   ]
  },
  {
   "cell_type": "code",
   "execution_count": null,
   "id": "6dfaf5f2",
   "metadata": {},
   "outputs": [],
   "source": [
    "ord_5 = ord_df.groupby('ord_5')['ord_5'].count()\n",
    "dict_ord_5 = {}\n",
    "for i in ord_5.index:\n",
    "    dict_ord_5[i] = ord_5[i]\n",
    "dict_ord_5"
   ]
  },
  {
   "cell_type": "code",
   "execution_count": null,
   "id": "d2d804cb",
   "metadata": {
    "scrolled": true
   },
   "outputs": [],
   "source": [
    "ord_df.ord_5 = ord_df['ord_5'].map(dict_ord_5)"
   ]
  },
  {
   "cell_type": "code",
   "execution_count": null,
   "id": "ef518aec",
   "metadata": {},
   "outputs": [],
   "source": [
    "ord_df.head()"
   ]
  },
  {
   "cell_type": "markdown",
   "id": "2471a75f",
   "metadata": {},
   "source": [
    "# Final DF"
   ]
  },
  {
   "cell_type": "code",
   "execution_count": null,
   "id": "4a37b996",
   "metadata": {
    "scrolled": false
   },
   "outputs": [],
   "source": [
    "date_df.head()"
   ]
  },
  {
   "cell_type": "code",
   "execution_count": null,
   "id": "6c4031f5",
   "metadata": {},
   "outputs": [],
   "source": [
    "bin_df.head()"
   ]
  },
  {
   "cell_type": "code",
   "execution_count": null,
   "id": "92e6c922",
   "metadata": {},
   "outputs": [],
   "source": [
    "nom_df.head()"
   ]
  },
  {
   "cell_type": "code",
   "execution_count": null,
   "id": "dac21580",
   "metadata": {},
   "outputs": [],
   "source": [
    "ord_df.head()"
   ]
  },
  {
   "cell_type": "code",
   "execution_count": null,
   "id": "e6ac17d0",
   "metadata": {},
   "outputs": [],
   "source": [
    "final_df = pd.concat([bin_df, nom_df, ord_df, date_df, df.target], axis=1)"
   ]
  },
  {
   "cell_type": "code",
   "execution_count": null,
   "id": "9a5ebb5b",
   "metadata": {
    "scrolled": true
   },
   "outputs": [],
   "source": [
    "final_df.head()"
   ]
  },
  {
   "cell_type": "code",
   "execution_count": null,
   "id": "507d5219",
   "metadata": {},
   "outputs": [],
   "source": [
    "final_df.bin_3_T = final_df.bin_3_T.astype(dtype='int64')\n",
    "final_df.bin_4_Y = final_df.bin_4_Y.astype(dtype='int64')"
   ]
  },
  {
   "cell_type": "code",
   "execution_count": null,
   "id": "8b3b24d0",
   "metadata": {},
   "outputs": [],
   "source": [
    "final_df.info()"
   ]
  },
  {
   "cell_type": "code",
   "execution_count": null,
   "id": "a0651a9e",
   "metadata": {
    "scrolled": false
   },
   "outputs": [],
   "source": [
    "plt.figure(figsize=(20,20), dpi=300)\n",
    "sns.heatmap(data=final_df.corr(), cmap=plt.cm.cividis_r, annot=True)"
   ]
  },
  {
   "cell_type": "markdown",
   "id": "c8e929bc",
   "metadata": {},
   "source": [
    "# Model Building"
   ]
  },
  {
   "cell_type": "code",
   "execution_count": null,
   "id": "24124355",
   "metadata": {},
   "outputs": [],
   "source": [
    "from sklearn.model_selection import train_test_split, RandomizedSearchCV\n",
    "from sklearn.preprocessing import StandardScaler\n",
    "from sklearn.metrics import accuracy_score, classification_report, confusion_matrix\n",
    "from sklearn.ensemble import RandomForestClassifier\n",
    "from sklearn.linear_model import LogisticRegression\n",
    "from xgboost import XGBClassifier"
   ]
  },
  {
   "cell_type": "code",
   "execution_count": null,
   "id": "6365ac00",
   "metadata": {},
   "outputs": [],
   "source": [
    "X = final_df.drop(columns=['target'], axis=1)\n",
    "y= final_df.target"
   ]
  },
  {
   "cell_type": "code",
   "execution_count": null,
   "id": "71fc0e6a",
   "metadata": {},
   "outputs": [],
   "source": [
    "scaler = StandardScaler()"
   ]
  },
  {
   "cell_type": "code",
   "execution_count": null,
   "id": "6d93540a",
   "metadata": {},
   "outputs": [],
   "source": [
    "x_train, x_test, y_train, y_test = train_test_split(X, y, test_size=0.1, random_state=10)"
   ]
  },
  {
   "cell_type": "code",
   "execution_count": null,
   "id": "c7170d81",
   "metadata": {},
   "outputs": [],
   "source": [
    "scaler = StandardScaler()"
   ]
  },
  {
   "cell_type": "code",
   "execution_count": null,
   "id": "ec75a280",
   "metadata": {},
   "outputs": [],
   "source": [
    "sc = scaler.fit(x_train)"
   ]
  },
  {
   "cell_type": "code",
   "execution_count": null,
   "id": "d762e846",
   "metadata": {},
   "outputs": [],
   "source": [
    "x_train_scaled = sc.transform(x_train)"
   ]
  },
  {
   "cell_type": "code",
   "execution_count": null,
   "id": "fb937b9e",
   "metadata": {},
   "outputs": [],
   "source": [
    "x_test_scaled = sc.transform(x_test)"
   ]
  },
  {
   "cell_type": "code",
   "execution_count": null,
   "id": "f1bff3c9",
   "metadata": {},
   "outputs": [],
   "source": [
    "gamma = [0.1,0.2,0.3,0.4,0.5]\n",
    "learning_rate = [0.1,0.2,0.3,0.4,0.5,0.6]"
   ]
  },
  {
   "cell_type": "code",
   "execution_count": null,
   "id": "00673ed0",
   "metadata": {},
   "outputs": [],
   "source": [
    "xgb = XGBClassifier()"
   ]
  },
  {
   "cell_type": "code",
   "execution_count": null,
   "id": "8670c279",
   "metadata": {},
   "outputs": [],
   "source": [
    "random = RandomizedSearchCV(estimator=xgb, param_distributions={'gamma':[0.1,0.2,0.3,0.4,0.5],\n",
    "                                                                'learning_rate':[0.1,0.2,0.3,0.4,0.5,0.6]},\n",
    "                           n_jobs=-1, n_iter=10, cv=3)"
   ]
  },
  {
   "cell_type": "code",
   "execution_count": null,
   "id": "8f6e0d5f",
   "metadata": {
    "scrolled": true
   },
   "outputs": [],
   "source": [
    "random.fit(x_train_scaled, y_train)"
   ]
  },
  {
   "cell_type": "code",
   "execution_count": null,
   "id": "4d3f11ae",
   "metadata": {},
   "outputs": [],
   "source": [
    "random.best_estimator_"
   ]
  },
  {
   "cell_type": "code",
   "execution_count": 201,
   "id": "417eec62",
   "metadata": {},
   "outputs": [],
   "source": [
    "xgb = XGBClassifier(base_score=0.5, booster='gbtree', colsample_bylevel=1,\n",
    "              colsample_bynode=1, colsample_bytree=1, enable_categorical=False,\n",
    "              gamma=0.2, gpu_id=-1, importance_type=None,\n",
    "              interaction_constraints='', learning_rate=0.21, max_delta_step=0,\n",
    "              max_depth=9, min_child_weight=1, missing=np.nan,\n",
    "              monotone_constraints='()', n_estimators=300, n_jobs=-1,\n",
    "              num_parallel_tree=5, predictor='auto', random_state=20,\n",
    "              reg_alpha=0, reg_lambda=1, scale_pos_weight=1, subsample=1,\n",
    "              tree_method='exact', validate_parameters=1, verbosity=None)"
   ]
  },
  {
   "cell_type": "code",
   "execution_count": 202,
   "id": "864925a9",
   "metadata": {},
   "outputs": [
    {
     "name": "stderr",
     "output_type": "stream",
     "text": [
      "/Users/gautam/Desktop/ML/lib/python3.7/site-packages/xgboost/sklearn.py:1224: UserWarning: The use of label encoder in XGBClassifier is deprecated and will be removed in a future release. To remove this warning, do the following: 1) Pass option use_label_encoder=False when constructing XGBClassifier object; and 2) Encode your labels (y) as integers starting with 0, i.e. 0, 1, 2, ..., [num_class - 1].\n",
      "  warnings.warn(label_encoder_deprecation_msg, UserWarning)\n"
     ]
    },
    {
     "name": "stdout",
     "output_type": "stream",
     "text": [
      "[01:31:15] WARNING: /Users/runner/work/xgboost/xgboost/src/learner.cc:1115: Starting in XGBoost 1.3.0, the default evaluation metric used with the objective 'binary:logistic' was changed from 'error' to 'logloss'. Explicitly set eval_metric if you'd like to restore the old behavior.\n"
     ]
    },
    {
     "data": {
      "text/plain": [
       "XGBClassifier(base_score=0.5, booster='gbtree', colsample_bylevel=1,\n",
       "              colsample_bynode=1, colsample_bytree=1, enable_categorical=False,\n",
       "              gamma=0.2, gpu_id=-1, importance_type=None,\n",
       "              interaction_constraints='', learning_rate=0.21, max_delta_step=0,\n",
       "              max_depth=9, min_child_weight=1, missing=nan,\n",
       "              monotone_constraints='()', n_estimators=300, n_jobs=-1,\n",
       "              num_parallel_tree=5, predictor='auto', random_state=20,\n",
       "              reg_alpha=0, reg_lambda=1, scale_pos_weight=1, subsample=1,\n",
       "              tree_method='exact', validate_parameters=1, verbosity=None)"
      ]
     },
     "execution_count": 202,
     "metadata": {},
     "output_type": "execute_result"
    }
   ],
   "source": [
    "xgb.fit(x_train_scaled, y_train)"
   ]
  },
  {
   "cell_type": "code",
   "execution_count": 203,
   "id": "46487b6d",
   "metadata": {},
   "outputs": [],
   "source": [
    "y_pred = xgb.predict(x_test_scaled)"
   ]
  },
  {
   "cell_type": "code",
   "execution_count": 204,
   "id": "82fb3521",
   "metadata": {},
   "outputs": [
    {
     "data": {
      "text/plain": [
       "array([1, 1, 0, ..., 1, 1, 0])"
      ]
     },
     "execution_count": 204,
     "metadata": {},
     "output_type": "execute_result"
    }
   ],
   "source": [
    "y_pred "
   ]
  },
  {
   "cell_type": "code",
   "execution_count": 205,
   "id": "fa613a96",
   "metadata": {},
   "outputs": [
    {
     "data": {
      "text/plain": [
       "0.7261"
      ]
     },
     "execution_count": 205,
     "metadata": {},
     "output_type": "execute_result"
    }
   ],
   "source": [
    "accuracy_score(y_test, y_pred)"
   ]
  },
  {
   "cell_type": "code",
   "execution_count": 206,
   "id": "3b2457be",
   "metadata": {},
   "outputs": [
    {
     "name": "stdout",
     "output_type": "stream",
     "text": [
      "[[18223  2605]\n",
      " [ 5612  3560]]\n"
     ]
    }
   ],
   "source": [
    "print(confusion_matrix(y_test, y_pred))"
   ]
  },
  {
   "cell_type": "code",
   "execution_count": null,
   "id": "d34ad76c",
   "metadata": {},
   "outputs": [],
   "source": []
  },
  {
   "cell_type": "code",
   "execution_count": null,
   "id": "f90b9a38",
   "metadata": {},
   "outputs": [],
   "source": [
    "rfc = RandomForestClassifier(random_state=10)"
   ]
  },
  {
   "cell_type": "code",
   "execution_count": null,
   "id": "7b28bd0d",
   "metadata": {
    "scrolled": true
   },
   "outputs": [],
   "source": [
    "rfc.fit(x_train_scaled, y_train)"
   ]
  },
  {
   "cell_type": "code",
   "execution_count": null,
   "id": "0e3f8eaf",
   "metadata": {},
   "outputs": [],
   "source": [
    "y_pred_rfc = rfc.predict(x_test)"
   ]
  },
  {
   "cell_type": "code",
   "execution_count": null,
   "id": "ec103642",
   "metadata": {},
   "outputs": [],
   "source": [
    "accuracy_score(y_pred_rfc, y_test)"
   ]
  },
  {
   "cell_type": "code",
   "execution_count": null,
   "id": "9117a05d",
   "metadata": {},
   "outputs": [],
   "source": []
  },
  {
   "cell_type": "code",
   "execution_count": null,
   "id": "61037e83",
   "metadata": {},
   "outputs": [],
   "source": [
    "lr = LogisticRegression()"
   ]
  },
  {
   "cell_type": "code",
   "execution_count": null,
   "id": "ed28a9fa",
   "metadata": {
    "scrolled": true
   },
   "outputs": [],
   "source": [
    "lr.fit(x_train_scaled, y_train)"
   ]
  },
  {
   "cell_type": "code",
   "execution_count": null,
   "id": "08b93a64",
   "metadata": {},
   "outputs": [],
   "source": [
    "y_pred_lr = lr.predict(x_test_scaled)"
   ]
  },
  {
   "cell_type": "code",
   "execution_count": null,
   "id": "439c2858",
   "metadata": {},
   "outputs": [],
   "source": [
    "y_pred_lr"
   ]
  },
  {
   "cell_type": "code",
   "execution_count": null,
   "id": "2f441875",
   "metadata": {},
   "outputs": [],
   "source": [
    "accuracy_score(y_test, y_pred_lr)"
   ]
  },
  {
   "cell_type": "code",
   "execution_count": null,
   "id": "06b095c5",
   "metadata": {},
   "outputs": [],
   "source": []
  },
  {
   "cell_type": "markdown",
   "id": "dbfdc34f",
   "metadata": {},
   "source": [
    "# Kaggle submission"
   ]
  },
  {
   "cell_type": "code",
   "execution_count": 160,
   "id": "75d22f67",
   "metadata": {},
   "outputs": [],
   "source": [
    "test_df = pd.read_csv('test.csv')"
   ]
  },
  {
   "cell_type": "code",
   "execution_count": 161,
   "id": "a1d400b5",
   "metadata": {},
   "outputs": [],
   "source": [
    "ids = test_df.id "
   ]
  },
  {
   "cell_type": "code",
   "execution_count": 162,
   "id": "0571404e",
   "metadata": {},
   "outputs": [],
   "source": [
    "test_df.drop(columns=['id'], axis=1, inplace=True)"
   ]
  },
  {
   "cell_type": "code",
   "execution_count": 163,
   "id": "7d9920ab",
   "metadata": {},
   "outputs": [
    {
     "data": {
      "text/html": [
       "<div>\n",
       "<style scoped>\n",
       "    .dataframe tbody tr th:only-of-type {\n",
       "        vertical-align: middle;\n",
       "    }\n",
       "\n",
       "    .dataframe tbody tr th {\n",
       "        vertical-align: top;\n",
       "    }\n",
       "\n",
       "    .dataframe thead th {\n",
       "        text-align: right;\n",
       "    }\n",
       "</style>\n",
       "<table border=\"1\" class=\"dataframe\">\n",
       "  <thead>\n",
       "    <tr style=\"text-align: right;\">\n",
       "      <th></th>\n",
       "      <th>bin_0</th>\n",
       "      <th>bin_1</th>\n",
       "      <th>bin_2</th>\n",
       "      <th>bin_3</th>\n",
       "      <th>bin_4</th>\n",
       "      <th>nom_0</th>\n",
       "      <th>nom_1</th>\n",
       "      <th>nom_2</th>\n",
       "      <th>nom_3</th>\n",
       "      <th>nom_4</th>\n",
       "      <th>...</th>\n",
       "      <th>nom_8</th>\n",
       "      <th>nom_9</th>\n",
       "      <th>ord_0</th>\n",
       "      <th>ord_1</th>\n",
       "      <th>ord_2</th>\n",
       "      <th>ord_3</th>\n",
       "      <th>ord_4</th>\n",
       "      <th>ord_5</th>\n",
       "      <th>day</th>\n",
       "      <th>month</th>\n",
       "    </tr>\n",
       "  </thead>\n",
       "  <tbody>\n",
       "    <tr>\n",
       "      <th>0</th>\n",
       "      <td>0</td>\n",
       "      <td>0</td>\n",
       "      <td>1</td>\n",
       "      <td>T</td>\n",
       "      <td>Y</td>\n",
       "      <td>Blue</td>\n",
       "      <td>Triangle</td>\n",
       "      <td>Axolotl</td>\n",
       "      <td>Finland</td>\n",
       "      <td>Piano</td>\n",
       "      <td>...</td>\n",
       "      <td>9d117320c</td>\n",
       "      <td>3c49b42b8</td>\n",
       "      <td>2</td>\n",
       "      <td>Novice</td>\n",
       "      <td>Warm</td>\n",
       "      <td>j</td>\n",
       "      <td>P</td>\n",
       "      <td>be</td>\n",
       "      <td>5</td>\n",
       "      <td>11</td>\n",
       "    </tr>\n",
       "    <tr>\n",
       "      <th>1</th>\n",
       "      <td>0</td>\n",
       "      <td>0</td>\n",
       "      <td>0</td>\n",
       "      <td>T</td>\n",
       "      <td>N</td>\n",
       "      <td>Red</td>\n",
       "      <td>Square</td>\n",
       "      <td>Lion</td>\n",
       "      <td>Canada</td>\n",
       "      <td>Piano</td>\n",
       "      <td>...</td>\n",
       "      <td>46ae3059c</td>\n",
       "      <td>285771075</td>\n",
       "      <td>1</td>\n",
       "      <td>Master</td>\n",
       "      <td>Lava Hot</td>\n",
       "      <td>l</td>\n",
       "      <td>A</td>\n",
       "      <td>RP</td>\n",
       "      <td>7</td>\n",
       "      <td>5</td>\n",
       "    </tr>\n",
       "    <tr>\n",
       "      <th>2</th>\n",
       "      <td>1</td>\n",
       "      <td>0</td>\n",
       "      <td>1</td>\n",
       "      <td>F</td>\n",
       "      <td>Y</td>\n",
       "      <td>Blue</td>\n",
       "      <td>Square</td>\n",
       "      <td>Dog</td>\n",
       "      <td>China</td>\n",
       "      <td>Piano</td>\n",
       "      <td>...</td>\n",
       "      <td>b759e21f0</td>\n",
       "      <td>6f323c53f</td>\n",
       "      <td>2</td>\n",
       "      <td>Expert</td>\n",
       "      <td>Freezing</td>\n",
       "      <td>a</td>\n",
       "      <td>G</td>\n",
       "      <td>tP</td>\n",
       "      <td>1</td>\n",
       "      <td>12</td>\n",
       "    </tr>\n",
       "    <tr>\n",
       "      <th>3</th>\n",
       "      <td>0</td>\n",
       "      <td>0</td>\n",
       "      <td>1</td>\n",
       "      <td>T</td>\n",
       "      <td>Y</td>\n",
       "      <td>Red</td>\n",
       "      <td>Star</td>\n",
       "      <td>Cat</td>\n",
       "      <td>China</td>\n",
       "      <td>Piano</td>\n",
       "      <td>...</td>\n",
       "      <td>0b6ec68ff</td>\n",
       "      <td>b5de3dcc4</td>\n",
       "      <td>1</td>\n",
       "      <td>Contributor</td>\n",
       "      <td>Lava Hot</td>\n",
       "      <td>b</td>\n",
       "      <td>Q</td>\n",
       "      <td>ke</td>\n",
       "      <td>2</td>\n",
       "      <td>3</td>\n",
       "    </tr>\n",
       "    <tr>\n",
       "      <th>4</th>\n",
       "      <td>0</td>\n",
       "      <td>1</td>\n",
       "      <td>1</td>\n",
       "      <td>F</td>\n",
       "      <td>N</td>\n",
       "      <td>Red</td>\n",
       "      <td>Trapezoid</td>\n",
       "      <td>Dog</td>\n",
       "      <td>China</td>\n",
       "      <td>Piano</td>\n",
       "      <td>...</td>\n",
       "      <td>f91f3b1ee</td>\n",
       "      <td>967cfa9c9</td>\n",
       "      <td>3</td>\n",
       "      <td>Grandmaster</td>\n",
       "      <td>Lava Hot</td>\n",
       "      <td>l</td>\n",
       "      <td>W</td>\n",
       "      <td>qK</td>\n",
       "      <td>4</td>\n",
       "      <td>11</td>\n",
       "    </tr>\n",
       "  </tbody>\n",
       "</table>\n",
       "<p>5 rows × 23 columns</p>\n",
       "</div>"
      ],
      "text/plain": [
       "   bin_0  bin_1  bin_2 bin_3 bin_4 nom_0      nom_1    nom_2    nom_3  nom_4  \\\n",
       "0      0      0      1     T     Y  Blue   Triangle  Axolotl  Finland  Piano   \n",
       "1      0      0      0     T     N   Red     Square     Lion   Canada  Piano   \n",
       "2      1      0      1     F     Y  Blue     Square      Dog    China  Piano   \n",
       "3      0      0      1     T     Y   Red       Star      Cat    China  Piano   \n",
       "4      0      1      1     F     N   Red  Trapezoid      Dog    China  Piano   \n",
       "\n",
       "   ...      nom_8      nom_9 ord_0        ord_1     ord_2  ord_3 ord_4 ord_5  \\\n",
       "0  ...  9d117320c  3c49b42b8     2       Novice      Warm      j     P    be   \n",
       "1  ...  46ae3059c  285771075     1       Master  Lava Hot      l     A    RP   \n",
       "2  ...  b759e21f0  6f323c53f     2       Expert  Freezing      a     G    tP   \n",
       "3  ...  0b6ec68ff  b5de3dcc4     1  Contributor  Lava Hot      b     Q    ke   \n",
       "4  ...  f91f3b1ee  967cfa9c9     3  Grandmaster  Lava Hot      l     W    qK   \n",
       "\n",
       "  day month  \n",
       "0   5    11  \n",
       "1   7     5  \n",
       "2   1    12  \n",
       "3   2     3  \n",
       "4   4    11  \n",
       "\n",
       "[5 rows x 23 columns]"
      ]
     },
     "execution_count": 163,
     "metadata": {},
     "output_type": "execute_result"
    }
   ],
   "source": [
    "test_df.head()"
   ]
  },
  {
   "cell_type": "code",
   "execution_count": 164,
   "id": "7068a16a",
   "metadata": {},
   "outputs": [],
   "source": [
    "bin_df = test_df[['bin_0', 'bin_1', 'bin_2', 'bin_3', 'bin_4']]\n",
    "nom_df = test_df[['nom_0', 'nom_1', 'nom_2', 'nom_3', 'nom_4', 'nom_5', 'nom_6', 'nom_7', 'nom_8', 'nom_9']]\n",
    "ord_df = test_df[['ord_0', 'ord_1', 'ord_2', 'ord_3', 'ord_4', 'ord_5']]\n",
    "date_df = test_df[['month', 'day']]"
   ]
  },
  {
   "cell_type": "code",
   "execution_count": 165,
   "id": "58cdf475",
   "metadata": {},
   "outputs": [],
   "source": [
    "bin_df = pd.get_dummies(data=bin_df , columns=['bin_3', 'bin_4'], drop_first=True)"
   ]
  },
  {
   "cell_type": "code",
   "execution_count": 166,
   "id": "c1d09dc7",
   "metadata": {},
   "outputs": [
    {
     "data": {
      "text/plain": [
       "False"
      ]
     },
     "execution_count": 166,
     "metadata": {},
     "output_type": "execute_result"
    }
   ],
   "source": [
    "bin_df.isnull().values.any()"
   ]
  },
  {
   "cell_type": "code",
   "execution_count": 167,
   "id": "ee8d47c1",
   "metadata": {},
   "outputs": [
    {
     "data": {
      "text/html": [
       "<div>\n",
       "<style scoped>\n",
       "    .dataframe tbody tr th:only-of-type {\n",
       "        vertical-align: middle;\n",
       "    }\n",
       "\n",
       "    .dataframe tbody tr th {\n",
       "        vertical-align: top;\n",
       "    }\n",
       "\n",
       "    .dataframe thead th {\n",
       "        text-align: right;\n",
       "    }\n",
       "</style>\n",
       "<table border=\"1\" class=\"dataframe\">\n",
       "  <thead>\n",
       "    <tr style=\"text-align: right;\">\n",
       "      <th></th>\n",
       "      <th>bin_0</th>\n",
       "      <th>bin_1</th>\n",
       "      <th>bin_2</th>\n",
       "      <th>bin_3_T</th>\n",
       "      <th>bin_4_Y</th>\n",
       "    </tr>\n",
       "  </thead>\n",
       "  <tbody>\n",
       "    <tr>\n",
       "      <th>0</th>\n",
       "      <td>0</td>\n",
       "      <td>0</td>\n",
       "      <td>1</td>\n",
       "      <td>1</td>\n",
       "      <td>1</td>\n",
       "    </tr>\n",
       "    <tr>\n",
       "      <th>1</th>\n",
       "      <td>0</td>\n",
       "      <td>0</td>\n",
       "      <td>0</td>\n",
       "      <td>1</td>\n",
       "      <td>0</td>\n",
       "    </tr>\n",
       "    <tr>\n",
       "      <th>2</th>\n",
       "      <td>1</td>\n",
       "      <td>0</td>\n",
       "      <td>1</td>\n",
       "      <td>0</td>\n",
       "      <td>1</td>\n",
       "    </tr>\n",
       "    <tr>\n",
       "      <th>3</th>\n",
       "      <td>0</td>\n",
       "      <td>0</td>\n",
       "      <td>1</td>\n",
       "      <td>1</td>\n",
       "      <td>1</td>\n",
       "    </tr>\n",
       "    <tr>\n",
       "      <th>4</th>\n",
       "      <td>0</td>\n",
       "      <td>1</td>\n",
       "      <td>1</td>\n",
       "      <td>0</td>\n",
       "      <td>0</td>\n",
       "    </tr>\n",
       "  </tbody>\n",
       "</table>\n",
       "</div>"
      ],
      "text/plain": [
       "   bin_0  bin_1  bin_2  bin_3_T  bin_4_Y\n",
       "0      0      0      1        1        1\n",
       "1      0      0      0        1        0\n",
       "2      1      0      1        0        1\n",
       "3      0      0      1        1        1\n",
       "4      0      1      1        0        0"
      ]
     },
     "execution_count": 167,
     "metadata": {},
     "output_type": "execute_result"
    }
   ],
   "source": [
    "bin_df.head()"
   ]
  },
  {
   "cell_type": "markdown",
   "id": "80cddd6c",
   "metadata": {},
   "source": [
    "# Nom DF"
   ]
  },
  {
   "cell_type": "code",
   "execution_count": 168,
   "id": "529e740e",
   "metadata": {
    "scrolled": true
   },
   "outputs": [
    {
     "data": {
      "text/html": [
       "<div>\n",
       "<style scoped>\n",
       "    .dataframe tbody tr th:only-of-type {\n",
       "        vertical-align: middle;\n",
       "    }\n",
       "\n",
       "    .dataframe tbody tr th {\n",
       "        vertical-align: top;\n",
       "    }\n",
       "\n",
       "    .dataframe thead th {\n",
       "        text-align: right;\n",
       "    }\n",
       "</style>\n",
       "<table border=\"1\" class=\"dataframe\">\n",
       "  <thead>\n",
       "    <tr style=\"text-align: right;\">\n",
       "      <th></th>\n",
       "      <th>nom_0</th>\n",
       "      <th>nom_1</th>\n",
       "      <th>nom_2</th>\n",
       "      <th>nom_3</th>\n",
       "      <th>nom_4</th>\n",
       "      <th>nom_5</th>\n",
       "      <th>nom_6</th>\n",
       "      <th>nom_7</th>\n",
       "      <th>nom_8</th>\n",
       "      <th>nom_9</th>\n",
       "    </tr>\n",
       "  </thead>\n",
       "  <tbody>\n",
       "    <tr>\n",
       "      <th>0</th>\n",
       "      <td>Blue</td>\n",
       "      <td>Triangle</td>\n",
       "      <td>Axolotl</td>\n",
       "      <td>Finland</td>\n",
       "      <td>Piano</td>\n",
       "      <td>0870b0a5d</td>\n",
       "      <td>9ceb19dd6</td>\n",
       "      <td>530f8ecc3</td>\n",
       "      <td>9d117320c</td>\n",
       "      <td>3c49b42b8</td>\n",
       "    </tr>\n",
       "    <tr>\n",
       "      <th>1</th>\n",
       "      <td>Red</td>\n",
       "      <td>Square</td>\n",
       "      <td>Lion</td>\n",
       "      <td>Canada</td>\n",
       "      <td>Piano</td>\n",
       "      <td>a5c276589</td>\n",
       "      <td>1ad744242</td>\n",
       "      <td>12e6161c9</td>\n",
       "      <td>46ae3059c</td>\n",
       "      <td>285771075</td>\n",
       "    </tr>\n",
       "    <tr>\n",
       "      <th>2</th>\n",
       "      <td>Blue</td>\n",
       "      <td>Square</td>\n",
       "      <td>Dog</td>\n",
       "      <td>China</td>\n",
       "      <td>Piano</td>\n",
       "      <td>568550f04</td>\n",
       "      <td>1fe17a1fd</td>\n",
       "      <td>27d6df03f</td>\n",
       "      <td>b759e21f0</td>\n",
       "      <td>6f323c53f</td>\n",
       "    </tr>\n",
       "    <tr>\n",
       "      <th>3</th>\n",
       "      <td>Red</td>\n",
       "      <td>Star</td>\n",
       "      <td>Cat</td>\n",
       "      <td>China</td>\n",
       "      <td>Piano</td>\n",
       "      <td>c5725677e</td>\n",
       "      <td>a6542cec0</td>\n",
       "      <td>30c63bd0c</td>\n",
       "      <td>0b6ec68ff</td>\n",
       "      <td>b5de3dcc4</td>\n",
       "    </tr>\n",
       "    <tr>\n",
       "      <th>4</th>\n",
       "      <td>Red</td>\n",
       "      <td>Trapezoid</td>\n",
       "      <td>Dog</td>\n",
       "      <td>China</td>\n",
       "      <td>Piano</td>\n",
       "      <td>e70a6270d</td>\n",
       "      <td>97b6a3518</td>\n",
       "      <td>a42386065</td>\n",
       "      <td>f91f3b1ee</td>\n",
       "      <td>967cfa9c9</td>\n",
       "    </tr>\n",
       "  </tbody>\n",
       "</table>\n",
       "</div>"
      ],
      "text/plain": [
       "  nom_0      nom_1    nom_2    nom_3  nom_4      nom_5      nom_6      nom_7  \\\n",
       "0  Blue   Triangle  Axolotl  Finland  Piano  0870b0a5d  9ceb19dd6  530f8ecc3   \n",
       "1   Red     Square     Lion   Canada  Piano  a5c276589  1ad744242  12e6161c9   \n",
       "2  Blue     Square      Dog    China  Piano  568550f04  1fe17a1fd  27d6df03f   \n",
       "3   Red       Star      Cat    China  Piano  c5725677e  a6542cec0  30c63bd0c   \n",
       "4   Red  Trapezoid      Dog    China  Piano  e70a6270d  97b6a3518  a42386065   \n",
       "\n",
       "       nom_8      nom_9  \n",
       "0  9d117320c  3c49b42b8  \n",
       "1  46ae3059c  285771075  \n",
       "2  b759e21f0  6f323c53f  \n",
       "3  0b6ec68ff  b5de3dcc4  \n",
       "4  f91f3b1ee  967cfa9c9  "
      ]
     },
     "execution_count": 168,
     "metadata": {},
     "output_type": "execute_result"
    }
   ],
   "source": [
    "nom_df.head()"
   ]
  },
  {
   "cell_type": "code",
   "execution_count": 169,
   "id": "2cc4ceef",
   "metadata": {
    "scrolled": true
   },
   "outputs": [
    {
     "name": "stderr",
     "output_type": "stream",
     "text": [
      "/Users/gautam/Desktop/ML/lib/python3.7/site-packages/pandas/core/frame.py:4913: SettingWithCopyWarning: \n",
      "A value is trying to be set on a copy of a slice from a DataFrame\n",
      "\n",
      "See the caveats in the documentation: https://pandas.pydata.org/pandas-docs/stable/user_guide/indexing.html#returning-a-view-versus-a-copy\n",
      "  errors=errors,\n"
     ]
    }
   ],
   "source": [
    "nom_df.drop(axis=1, inplace=True, columns=['nom_5','nom_6','nom_7','nom_8','nom_9'])"
   ]
  },
  {
   "cell_type": "code",
   "execution_count": 170,
   "id": "1a278330",
   "metadata": {
    "scrolled": true
   },
   "outputs": [
    {
     "name": "stderr",
     "output_type": "stream",
     "text": [
      "/Users/gautam/Desktop/ML/lib/python3.7/site-packages/pandas/core/generic.py:5516: SettingWithCopyWarning: \n",
      "A value is trying to be set on a copy of a slice from a DataFrame.\n",
      "Try using .loc[row_indexer,col_indexer] = value instead\n",
      "\n",
      "See the caveats in the documentation: https://pandas.pydata.org/pandas-docs/stable/user_guide/indexing.html#returning-a-view-versus-a-copy\n",
      "  self[name] = value\n"
     ]
    }
   ],
   "source": [
    "nom_0 = nom_df.groupby('nom_0')['nom_0'].count()\n",
    "dict_nom_0 = {}\n",
    "for i in nom_0.index:\n",
    "    dict_nom_0[i] = nom_0[i]\n",
    "\n",
    "nom_df.nom_0 = nom_df['nom_0'].map(dict_nom_0)"
   ]
  },
  {
   "cell_type": "code",
   "execution_count": 171,
   "id": "7099d2b7",
   "metadata": {},
   "outputs": [],
   "source": [
    "nom_1 = nom_df.groupby('nom_1')['nom_1'].count()\n",
    "dict_nom_1 = {}\n",
    "for i in nom_1.index:\n",
    "    dict_nom_1[i] = nom_1[i]\n",
    "nom_df.nom_1 = nom_df['nom_1'].map(dict_nom_1)"
   ]
  },
  {
   "cell_type": "code",
   "execution_count": 172,
   "id": "6a5d97b6",
   "metadata": {},
   "outputs": [],
   "source": [
    "nom_2 = nom_df.groupby('nom_2')['nom_2'].count()\n",
    "dict_nom_2 = {}\n",
    "for i in nom_2.index:\n",
    "    dict_nom_2[i] = nom_2[i]\n",
    "nom_df.nom_2 = nom_df['nom_2'].map(dict_nom_2)"
   ]
  },
  {
   "cell_type": "code",
   "execution_count": 173,
   "id": "c6942a9d",
   "metadata": {},
   "outputs": [],
   "source": [
    "nom_3 = nom_df.groupby('nom_3')['nom_3'].count()\n",
    "\n",
    "dict_nom_3 = {}\n",
    "for i in nom_3.index:\n",
    "    dict_nom_3[i] = nom_3[i]\n",
    "nom_df.nom_3 = nom_df['nom_3'].map(dict_nom_3)"
   ]
  },
  {
   "cell_type": "code",
   "execution_count": 174,
   "id": "952054be",
   "metadata": {},
   "outputs": [],
   "source": [
    "nom_4 = nom_df.groupby('nom_4')['nom_4'].count()\n",
    "\n",
    "dict_nom_4 = {}\n",
    "for i in nom_4.index:\n",
    "    dict_nom_4[i] = nom_4[i]\n",
    "nom_df.nom_4 = nom_df['nom_4'].map(dict_nom_4)"
   ]
  },
  {
   "cell_type": "code",
   "execution_count": 175,
   "id": "210366c0",
   "metadata": {},
   "outputs": [
    {
     "data": {
      "text/html": [
       "<div>\n",
       "<style scoped>\n",
       "    .dataframe tbody tr th:only-of-type {\n",
       "        vertical-align: middle;\n",
       "    }\n",
       "\n",
       "    .dataframe tbody tr th {\n",
       "        vertical-align: top;\n",
       "    }\n",
       "\n",
       "    .dataframe thead th {\n",
       "        text-align: right;\n",
       "    }\n",
       "</style>\n",
       "<table border=\"1\" class=\"dataframe\">\n",
       "  <thead>\n",
       "    <tr style=\"text-align: right;\">\n",
       "      <th></th>\n",
       "      <th>nom_0</th>\n",
       "      <th>nom_1</th>\n",
       "      <th>nom_2</th>\n",
       "      <th>nom_3</th>\n",
       "      <th>nom_4</th>\n",
       "    </tr>\n",
       "  </thead>\n",
       "  <tbody>\n",
       "    <tr>\n",
       "      <th>0</th>\n",
       "      <td>63762</td>\n",
       "      <td>19835</td>\n",
       "      <td>23767</td>\n",
       "      <td>25028</td>\n",
       "      <td>56491</td>\n",
       "    </tr>\n",
       "    <tr>\n",
       "      <th>1</th>\n",
       "      <td>51083</td>\n",
       "      <td>33036</td>\n",
       "      <td>67665</td>\n",
       "      <td>33035</td>\n",
       "      <td>56491</td>\n",
       "    </tr>\n",
       "    <tr>\n",
       "      <th>2</th>\n",
       "      <td>63762</td>\n",
       "      <td>33036</td>\n",
       "      <td>24922</td>\n",
       "      <td>30552</td>\n",
       "      <td>56491</td>\n",
       "    </tr>\n",
       "    <tr>\n",
       "      <th>3</th>\n",
       "      <td>51083</td>\n",
       "      <td>30772</td>\n",
       "      <td>33230</td>\n",
       "      <td>30552</td>\n",
       "      <td>56491</td>\n",
       "    </tr>\n",
       "    <tr>\n",
       "      <th>4</th>\n",
       "      <td>51083</td>\n",
       "      <td>67250</td>\n",
       "      <td>24922</td>\n",
       "      <td>30552</td>\n",
       "      <td>56491</td>\n",
       "    </tr>\n",
       "  </tbody>\n",
       "</table>\n",
       "</div>"
      ],
      "text/plain": [
       "   nom_0  nom_1  nom_2  nom_3  nom_4\n",
       "0  63762  19835  23767  25028  56491\n",
       "1  51083  33036  67665  33035  56491\n",
       "2  63762  33036  24922  30552  56491\n",
       "3  51083  30772  33230  30552  56491\n",
       "4  51083  67250  24922  30552  56491"
      ]
     },
     "execution_count": 175,
     "metadata": {},
     "output_type": "execute_result"
    }
   ],
   "source": [
    "nom_df.head()"
   ]
  },
  {
   "cell_type": "markdown",
   "id": "e5591ead",
   "metadata": {},
   "source": [
    "# ORD DF"
   ]
  },
  {
   "cell_type": "code",
   "execution_count": 176,
   "id": "e610d9f2",
   "metadata": {
    "scrolled": true
   },
   "outputs": [
    {
     "name": "stderr",
     "output_type": "stream",
     "text": [
      "/Users/gautam/Desktop/ML/lib/python3.7/site-packages/pandas/core/generic.py:5516: SettingWithCopyWarning: \n",
      "A value is trying to be set on a copy of a slice from a DataFrame.\n",
      "Try using .loc[row_indexer,col_indexer] = value instead\n",
      "\n",
      "See the caveats in the documentation: https://pandas.pydata.org/pandas-docs/stable/user_guide/indexing.html#returning-a-view-versus-a-copy\n",
      "  self[name] = value\n"
     ]
    }
   ],
   "source": [
    "dict_ord_0 = {\n",
    "    1: 2,\n",
    "    2: 1,\n",
    "    3: 0\n",
    "}\n",
    "ord_df.ord_0 = ord_df['ord_0'].map(dict_ord_0)"
   ]
  },
  {
   "cell_type": "code",
   "execution_count": 177,
   "id": "18f4cb73",
   "metadata": {
    "scrolled": true
   },
   "outputs": [
    {
     "data": {
      "text/plain": [
       "{'Contributor': 28645,\n",
       " 'Expert': 16644,\n",
       " 'Grandmaster': 51715,\n",
       " 'Master': 18702,\n",
       " 'Novice': 84294}"
      ]
     },
     "execution_count": 177,
     "metadata": {},
     "output_type": "execute_result"
    }
   ],
   "source": [
    "ord_1 = ord_df.groupby('ord_1')['ord_1'].count()\n",
    "dict_ord_1 = {}\n",
    "for i in ord_1.index:\n",
    "    dict_ord_1[i] = ord_1[i]\n",
    "dict_ord_1"
   ]
  },
  {
   "cell_type": "code",
   "execution_count": 178,
   "id": "15be5395",
   "metadata": {},
   "outputs": [],
   "source": [
    "ord_df.ord_1 = ord_df['ord_1'].map(dict_ord_1)"
   ]
  },
  {
   "cell_type": "code",
   "execution_count": 179,
   "id": "077fd428",
   "metadata": {},
   "outputs": [
    {
     "data": {
      "text/plain": [
       "{'Boiling Hot': 40636,\n",
       " 'Cold': 22666,\n",
       " 'Freezing': 66249,\n",
       " 'Hot': 14517,\n",
       " 'Lava Hot': 42741,\n",
       " 'Warm': 13191}"
      ]
     },
     "execution_count": 179,
     "metadata": {},
     "output_type": "execute_result"
    }
   ],
   "source": [
    "ord_2 = ord_df.groupby('ord_2')['ord_2'].count()\n",
    "dict_ord_2 = {}\n",
    "for i in ord_2.index:\n",
    "    dict_ord_2[i] = ord_2[i]\n",
    "dict_ord_2"
   ]
  },
  {
   "cell_type": "code",
   "execution_count": 180,
   "id": "82d2d662",
   "metadata": {},
   "outputs": [],
   "source": [
    "ord_df.ord_2 = ord_df['ord_2'].map(dict_ord_2)"
   ]
  },
  {
   "cell_type": "code",
   "execution_count": 181,
   "id": "0ccd5a75",
   "metadata": {
    "scrolled": false
   },
   "outputs": [
    {
     "data": {
      "text/plain": [
       "{'a': 23384,\n",
       " 'b': 7968,\n",
       " 'c': 4627,\n",
       " 'd': 5172,\n",
       " 'e': 14303,\n",
       " 'f': 14755,\n",
       " 'g': 24303,\n",
       " 'h': 16520,\n",
       " 'i': 18968,\n",
       " 'j': 16482,\n",
       " 'k': 18685,\n",
       " 'l': 24233,\n",
       " 'm': 223,\n",
       " 'n': 2687,\n",
       " 'o': 7690}"
      ]
     },
     "execution_count": 181,
     "metadata": {},
     "output_type": "execute_result"
    }
   ],
   "source": [
    "ord_3 = ord_df.groupby('ord_3')['ord_3'].count()\n",
    "\n",
    "dict_ord_3 = {}\n",
    "for i in ord_3.index:\n",
    "    dict_ord_3[i] = ord_3[i]\n",
    "dict_ord_3"
   ]
  },
  {
   "cell_type": "code",
   "execution_count": 182,
   "id": "3506406b",
   "metadata": {},
   "outputs": [],
   "source": [
    "ord_df.ord_3 = ord_df['ord_3'].map(dict_ord_3)"
   ]
  },
  {
   "cell_type": "code",
   "execution_count": 183,
   "id": "53ea436a",
   "metadata": {
    "scrolled": false
   },
   "outputs": [
    {
     "data": {
      "text/plain": [
       "{'A': 12314,\n",
       " 'B': 4168,\n",
       " 'C': 2504,\n",
       " 'D': 2592,\n",
       " 'E': 7244,\n",
       " 'F': 7754,\n",
       " 'G': 12633,\n",
       " 'H': 8452,\n",
       " 'I': 9588,\n",
       " 'J': 8699,\n",
       " 'K': 9790,\n",
       " 'L': 12500,\n",
       " 'M': 110,\n",
       " 'N': 1438,\n",
       " 'O': 3871,\n",
       " 'P': 8597,\n",
       " 'Q': 10622,\n",
       " 'R': 11367,\n",
       " 'S': 12898,\n",
       " 'T': 9428,\n",
       " 'U': 8520,\n",
       " 'V': 9383,\n",
       " 'W': 5986,\n",
       " 'X': 4239,\n",
       " 'Y': 5698,\n",
       " 'Z': 9605}"
      ]
     },
     "execution_count": 183,
     "metadata": {},
     "output_type": "execute_result"
    }
   ],
   "source": [
    "ord_4 = ord_df.groupby('ord_4')['ord_4'].count()\n",
    "\n",
    "dict_ord_4 = {}\n",
    "for i in ord_4.index:\n",
    "    dict_ord_4[i] = ord_4[i]\n",
    "dict_ord_4"
   ]
  },
  {
   "cell_type": "code",
   "execution_count": 184,
   "id": "1fb84825",
   "metadata": {},
   "outputs": [],
   "source": [
    "ord_df.ord_4 = ord_df['ord_4'].map(dict_ord_4)"
   ]
  },
  {
   "cell_type": "code",
   "execution_count": 185,
   "id": "4b80414e",
   "metadata": {},
   "outputs": [
    {
     "data": {
      "text/plain": [
       "{'AP': 1800,\n",
       " 'Ai': 624,\n",
       " 'Aj': 339,\n",
       " 'BA': 364,\n",
       " 'BE': 1067,\n",
       " 'Bb': 1121,\n",
       " 'Bd': 1832,\n",
       " 'Bn': 1266,\n",
       " 'CL': 1424,\n",
       " 'CM': 1254,\n",
       " 'CU': 1388,\n",
       " 'CZ': 1740,\n",
       " 'Cl': 18,\n",
       " 'DH': 190,\n",
       " 'DN': 538,\n",
       " 'Dc': 1187,\n",
       " 'Dx': 1476,\n",
       " 'Ed': 1649,\n",
       " 'Eg': 1775,\n",
       " 'Er': 1357,\n",
       " 'FI': 1196,\n",
       " 'Fd': 1357,\n",
       " 'Fo': 1486,\n",
       " 'GD': 799,\n",
       " 'GJ': 1483,\n",
       " 'Gb': 1896,\n",
       " 'Gx': 1259,\n",
       " 'Hj': 1502,\n",
       " 'IK': 310,\n",
       " 'Id': 52,\n",
       " 'JX': 1552,\n",
       " 'Jc': 1703,\n",
       " 'Jf': 44,\n",
       " 'Jt': 881,\n",
       " 'KR': 1020,\n",
       " 'KZ': 1161,\n",
       " 'Kf': 88,\n",
       " 'Kq': 1665,\n",
       " 'LE': 1353,\n",
       " 'MC': 1547,\n",
       " 'MO': 927,\n",
       " 'MV': 1556,\n",
       " 'Mf': 185,\n",
       " 'Ml': 422,\n",
       " 'Mx': 473,\n",
       " 'NV': 912,\n",
       " 'Nf': 913,\n",
       " 'Nk': 1374,\n",
       " 'OR': 346,\n",
       " 'Ob': 1020,\n",
       " 'Os': 319,\n",
       " 'PA': 1461,\n",
       " 'PQ': 1723,\n",
       " 'PZ': 1151,\n",
       " 'Ps': 294,\n",
       " 'QM': 968,\n",
       " 'Qb': 727,\n",
       " 'Qh': 1625,\n",
       " 'Qo': 1771,\n",
       " 'RG': 739,\n",
       " 'RL': 594,\n",
       " 'RP': 1052,\n",
       " 'Rm': 384,\n",
       " 'Ry': 238,\n",
       " 'SB': 1315,\n",
       " 'Sc': 1520,\n",
       " 'TR': 1095,\n",
       " 'TZ': 1837,\n",
       " 'To': 1200,\n",
       " 'UO': 1705,\n",
       " 'Uk': 924,\n",
       " 'Uu': 655,\n",
       " 'Vf': 1339,\n",
       " 'Vx': 996,\n",
       " 'WE': 439,\n",
       " 'Wc': 444,\n",
       " 'Wv': 1569,\n",
       " 'XI': 948,\n",
       " 'Xh': 1774,\n",
       " 'Xi': 1720,\n",
       " 'YC': 983,\n",
       " 'Yb': 441,\n",
       " 'Ye': 1347,\n",
       " 'ZR': 689,\n",
       " 'ZS': 1024,\n",
       " 'Zc': 421,\n",
       " 'Zq': 1956,\n",
       " 'aF': 608,\n",
       " 'aM': 1520,\n",
       " 'aO': 1439,\n",
       " 'aP': 1566,\n",
       " 'ac': 1849,\n",
       " 'av': 199,\n",
       " 'bF': 1662,\n",
       " 'bJ': 663,\n",
       " 'be': 1561,\n",
       " 'cA': 1666,\n",
       " 'cG': 81,\n",
       " 'cW': 341,\n",
       " 'ck': 544,\n",
       " 'cp': 1206,\n",
       " 'dB': 161,\n",
       " 'dE': 277,\n",
       " 'dN': 1039,\n",
       " 'dO': 1306,\n",
       " 'dP': 1636,\n",
       " 'dQ': 1217,\n",
       " 'dZ': 1128,\n",
       " 'dh': 1402,\n",
       " 'eG': 489,\n",
       " 'eQ': 1759,\n",
       " 'eb': 870,\n",
       " 'eg': 45,\n",
       " 'ek': 1797,\n",
       " 'ex': 1196,\n",
       " 'fO': 2279,\n",
       " 'fh': 974,\n",
       " 'gJ': 1738,\n",
       " 'gM': 964,\n",
       " 'hL': 132,\n",
       " 'hT': 1044,\n",
       " 'hh': 1174,\n",
       " 'hp': 1749,\n",
       " 'iT': 786,\n",
       " 'ih': 549,\n",
       " 'jS': 185,\n",
       " 'jV': 872,\n",
       " 'je': 858,\n",
       " 'jp': 60,\n",
       " 'kC': 1302,\n",
       " 'kE': 1315,\n",
       " 'kK': 1396,\n",
       " 'kL': 805,\n",
       " 'kU': 30,\n",
       " 'kW': 1751,\n",
       " 'ke': 1504,\n",
       " 'kr': 319,\n",
       " 'kw': 579,\n",
       " 'lF': 1141,\n",
       " 'lL': 710,\n",
       " 'll': 615,\n",
       " 'lx': 1646,\n",
       " 'mb': 563,\n",
       " 'mc': 1130,\n",
       " 'mm': 861,\n",
       " 'nX': 808,\n",
       " 'nh': 1700,\n",
       " 'oC': 1297,\n",
       " 'oG': 563,\n",
       " 'oH': 120,\n",
       " 'oK': 382,\n",
       " 'od': 3435,\n",
       " 'on': 1769,\n",
       " 'pa': 113,\n",
       " 'ps': 1172,\n",
       " 'qA': 892,\n",
       " 'qJ': 28,\n",
       " 'qK': 684,\n",
       " 'qP': 1922,\n",
       " 'qX': 1240,\n",
       " 'qo': 1644,\n",
       " 'qv': 1472,\n",
       " 'qw': 738,\n",
       " 'rZ': 1523,\n",
       " 'ri': 1705,\n",
       " 'rp': 498,\n",
       " 'sD': 1867,\n",
       " 'sV': 1600,\n",
       " 'sY': 1353,\n",
       " 'sn': 676,\n",
       " 'su': 1669,\n",
       " 'tM': 1616,\n",
       " 'tP': 1873,\n",
       " 'tv': 30,\n",
       " 'uJ': 634,\n",
       " 'uS': 1893,\n",
       " 'ud': 283,\n",
       " 'us': 357,\n",
       " 'ut': 1456,\n",
       " 'ux': 127,\n",
       " 'uy': 1273,\n",
       " 'vK': 923,\n",
       " 'vq': 17,\n",
       " 'vy': 1433,\n",
       " 'wu': 1529,\n",
       " 'wy': 267,\n",
       " 'xP': 56,\n",
       " 'xy': 1441,\n",
       " 'yN': 438,\n",
       " 'yY': 502,\n",
       " 'yc': 892,\n",
       " 'zU': 1554}"
      ]
     },
     "execution_count": 185,
     "metadata": {},
     "output_type": "execute_result"
    }
   ],
   "source": [
    "ord_5 = ord_df.groupby('ord_5')['ord_5'].count()\n",
    "dict_ord_5 = {}\n",
    "for i in ord_5.index:\n",
    "    dict_ord_5[i] = ord_5[i]\n",
    "dict_ord_5"
   ]
  },
  {
   "cell_type": "code",
   "execution_count": 186,
   "id": "bbaadb58",
   "metadata": {
    "scrolled": true
   },
   "outputs": [],
   "source": [
    "ord_df.ord_5 = ord_df['ord_5'].map(dict_ord_5)"
   ]
  },
  {
   "cell_type": "code",
   "execution_count": 187,
   "id": "08e0430e",
   "metadata": {},
   "outputs": [
    {
     "data": {
      "text/html": [
       "<div>\n",
       "<style scoped>\n",
       "    .dataframe tbody tr th:only-of-type {\n",
       "        vertical-align: middle;\n",
       "    }\n",
       "\n",
       "    .dataframe tbody tr th {\n",
       "        vertical-align: top;\n",
       "    }\n",
       "\n",
       "    .dataframe thead th {\n",
       "        text-align: right;\n",
       "    }\n",
       "</style>\n",
       "<table border=\"1\" class=\"dataframe\">\n",
       "  <thead>\n",
       "    <tr style=\"text-align: right;\">\n",
       "      <th></th>\n",
       "      <th>ord_0</th>\n",
       "      <th>ord_1</th>\n",
       "      <th>ord_2</th>\n",
       "      <th>ord_3</th>\n",
       "      <th>ord_4</th>\n",
       "      <th>ord_5</th>\n",
       "    </tr>\n",
       "  </thead>\n",
       "  <tbody>\n",
       "    <tr>\n",
       "      <th>0</th>\n",
       "      <td>1</td>\n",
       "      <td>84294</td>\n",
       "      <td>13191</td>\n",
       "      <td>16482</td>\n",
       "      <td>8597</td>\n",
       "      <td>1561</td>\n",
       "    </tr>\n",
       "    <tr>\n",
       "      <th>1</th>\n",
       "      <td>2</td>\n",
       "      <td>18702</td>\n",
       "      <td>42741</td>\n",
       "      <td>24233</td>\n",
       "      <td>12314</td>\n",
       "      <td>1052</td>\n",
       "    </tr>\n",
       "    <tr>\n",
       "      <th>2</th>\n",
       "      <td>1</td>\n",
       "      <td>16644</td>\n",
       "      <td>66249</td>\n",
       "      <td>23384</td>\n",
       "      <td>12633</td>\n",
       "      <td>1873</td>\n",
       "    </tr>\n",
       "    <tr>\n",
       "      <th>3</th>\n",
       "      <td>2</td>\n",
       "      <td>28645</td>\n",
       "      <td>42741</td>\n",
       "      <td>7968</td>\n",
       "      <td>10622</td>\n",
       "      <td>1504</td>\n",
       "    </tr>\n",
       "    <tr>\n",
       "      <th>4</th>\n",
       "      <td>0</td>\n",
       "      <td>51715</td>\n",
       "      <td>42741</td>\n",
       "      <td>24233</td>\n",
       "      <td>5986</td>\n",
       "      <td>684</td>\n",
       "    </tr>\n",
       "  </tbody>\n",
       "</table>\n",
       "</div>"
      ],
      "text/plain": [
       "   ord_0  ord_1  ord_2  ord_3  ord_4  ord_5\n",
       "0      1  84294  13191  16482   8597   1561\n",
       "1      2  18702  42741  24233  12314   1052\n",
       "2      1  16644  66249  23384  12633   1873\n",
       "3      2  28645  42741   7968  10622   1504\n",
       "4      0  51715  42741  24233   5986    684"
      ]
     },
     "execution_count": 187,
     "metadata": {},
     "output_type": "execute_result"
    }
   ],
   "source": [
    "ord_df.head()"
   ]
  },
  {
   "cell_type": "code",
   "execution_count": 188,
   "id": "ac3655b9",
   "metadata": {},
   "outputs": [],
   "source": [
    "final_df = pd.concat([bin_df, nom_df, ord_df, date_df], axis=1)"
   ]
  },
  {
   "cell_type": "code",
   "execution_count": 189,
   "id": "c44fdf77",
   "metadata": {
    "scrolled": false
   },
   "outputs": [
    {
     "data": {
      "text/html": [
       "<div>\n",
       "<style scoped>\n",
       "    .dataframe tbody tr th:only-of-type {\n",
       "        vertical-align: middle;\n",
       "    }\n",
       "\n",
       "    .dataframe tbody tr th {\n",
       "        vertical-align: top;\n",
       "    }\n",
       "\n",
       "    .dataframe thead th {\n",
       "        text-align: right;\n",
       "    }\n",
       "</style>\n",
       "<table border=\"1\" class=\"dataframe\">\n",
       "  <thead>\n",
       "    <tr style=\"text-align: right;\">\n",
       "      <th></th>\n",
       "      <th>bin_0</th>\n",
       "      <th>bin_1</th>\n",
       "      <th>bin_2</th>\n",
       "      <th>bin_3_T</th>\n",
       "      <th>bin_4_Y</th>\n",
       "      <th>nom_0</th>\n",
       "      <th>nom_1</th>\n",
       "      <th>nom_2</th>\n",
       "      <th>nom_3</th>\n",
       "      <th>nom_4</th>\n",
       "      <th>ord_0</th>\n",
       "      <th>ord_1</th>\n",
       "      <th>ord_2</th>\n",
       "      <th>ord_3</th>\n",
       "      <th>ord_4</th>\n",
       "      <th>ord_5</th>\n",
       "      <th>month</th>\n",
       "      <th>day</th>\n",
       "    </tr>\n",
       "  </thead>\n",
       "  <tbody>\n",
       "    <tr>\n",
       "      <th>0</th>\n",
       "      <td>0</td>\n",
       "      <td>0</td>\n",
       "      <td>1</td>\n",
       "      <td>1</td>\n",
       "      <td>1</td>\n",
       "      <td>63762</td>\n",
       "      <td>19835</td>\n",
       "      <td>23767</td>\n",
       "      <td>25028</td>\n",
       "      <td>56491</td>\n",
       "      <td>1</td>\n",
       "      <td>84294</td>\n",
       "      <td>13191</td>\n",
       "      <td>16482</td>\n",
       "      <td>8597</td>\n",
       "      <td>1561</td>\n",
       "      <td>11</td>\n",
       "      <td>5</td>\n",
       "    </tr>\n",
       "    <tr>\n",
       "      <th>1</th>\n",
       "      <td>0</td>\n",
       "      <td>0</td>\n",
       "      <td>0</td>\n",
       "      <td>1</td>\n",
       "      <td>0</td>\n",
       "      <td>51083</td>\n",
       "      <td>33036</td>\n",
       "      <td>67665</td>\n",
       "      <td>33035</td>\n",
       "      <td>56491</td>\n",
       "      <td>2</td>\n",
       "      <td>18702</td>\n",
       "      <td>42741</td>\n",
       "      <td>24233</td>\n",
       "      <td>12314</td>\n",
       "      <td>1052</td>\n",
       "      <td>5</td>\n",
       "      <td>7</td>\n",
       "    </tr>\n",
       "    <tr>\n",
       "      <th>2</th>\n",
       "      <td>1</td>\n",
       "      <td>0</td>\n",
       "      <td>1</td>\n",
       "      <td>0</td>\n",
       "      <td>1</td>\n",
       "      <td>63762</td>\n",
       "      <td>33036</td>\n",
       "      <td>24922</td>\n",
       "      <td>30552</td>\n",
       "      <td>56491</td>\n",
       "      <td>1</td>\n",
       "      <td>16644</td>\n",
       "      <td>66249</td>\n",
       "      <td>23384</td>\n",
       "      <td>12633</td>\n",
       "      <td>1873</td>\n",
       "      <td>12</td>\n",
       "      <td>1</td>\n",
       "    </tr>\n",
       "    <tr>\n",
       "      <th>3</th>\n",
       "      <td>0</td>\n",
       "      <td>0</td>\n",
       "      <td>1</td>\n",
       "      <td>1</td>\n",
       "      <td>1</td>\n",
       "      <td>51083</td>\n",
       "      <td>30772</td>\n",
       "      <td>33230</td>\n",
       "      <td>30552</td>\n",
       "      <td>56491</td>\n",
       "      <td>2</td>\n",
       "      <td>28645</td>\n",
       "      <td>42741</td>\n",
       "      <td>7968</td>\n",
       "      <td>10622</td>\n",
       "      <td>1504</td>\n",
       "      <td>3</td>\n",
       "      <td>2</td>\n",
       "    </tr>\n",
       "    <tr>\n",
       "      <th>4</th>\n",
       "      <td>0</td>\n",
       "      <td>1</td>\n",
       "      <td>1</td>\n",
       "      <td>0</td>\n",
       "      <td>0</td>\n",
       "      <td>51083</td>\n",
       "      <td>67250</td>\n",
       "      <td>24922</td>\n",
       "      <td>30552</td>\n",
       "      <td>56491</td>\n",
       "      <td>0</td>\n",
       "      <td>51715</td>\n",
       "      <td>42741</td>\n",
       "      <td>24233</td>\n",
       "      <td>5986</td>\n",
       "      <td>684</td>\n",
       "      <td>11</td>\n",
       "      <td>4</td>\n",
       "    </tr>\n",
       "  </tbody>\n",
       "</table>\n",
       "</div>"
      ],
      "text/plain": [
       "   bin_0  bin_1  bin_2  bin_3_T  bin_4_Y  nom_0  nom_1  nom_2  nom_3  nom_4  \\\n",
       "0      0      0      1        1        1  63762  19835  23767  25028  56491   \n",
       "1      0      0      0        1        0  51083  33036  67665  33035  56491   \n",
       "2      1      0      1        0        1  63762  33036  24922  30552  56491   \n",
       "3      0      0      1        1        1  51083  30772  33230  30552  56491   \n",
       "4      0      1      1        0        0  51083  67250  24922  30552  56491   \n",
       "\n",
       "   ord_0  ord_1  ord_2  ord_3  ord_4  ord_5  month  day  \n",
       "0      1  84294  13191  16482   8597   1561     11    5  \n",
       "1      2  18702  42741  24233  12314   1052      5    7  \n",
       "2      1  16644  66249  23384  12633   1873     12    1  \n",
       "3      2  28645  42741   7968  10622   1504      3    2  \n",
       "4      0  51715  42741  24233   5986    684     11    4  "
      ]
     },
     "execution_count": 189,
     "metadata": {},
     "output_type": "execute_result"
    }
   ],
   "source": [
    "final_df.head()"
   ]
  },
  {
   "cell_type": "code",
   "execution_count": 190,
   "id": "c9043eed",
   "metadata": {},
   "outputs": [],
   "source": [
    "x = sc.transform(final_df)"
   ]
  },
  {
   "cell_type": "code",
   "execution_count": 191,
   "id": "be5843c4",
   "metadata": {},
   "outputs": [],
   "source": [
    "submit = xgb.predict(x)"
   ]
  },
  {
   "cell_type": "code",
   "execution_count": 193,
   "id": "66acbbd3",
   "metadata": {},
   "outputs": [],
   "source": [
    "submit = pd.Series(data=submit)"
   ]
  },
  {
   "cell_type": "code",
   "execution_count": 194,
   "id": "c22f904e",
   "metadata": {},
   "outputs": [],
   "source": [
    "sub = pd.concat([ids, submit], axis=1)"
   ]
  },
  {
   "cell_type": "code",
   "execution_count": 198,
   "id": "f130a588",
   "metadata": {},
   "outputs": [],
   "source": [
    "sub.columns = ['id', 'target']"
   ]
  },
  {
   "cell_type": "code",
   "execution_count": 199,
   "id": "c4701b0b",
   "metadata": {},
   "outputs": [
    {
     "data": {
      "text/html": [
       "<div>\n",
       "<style scoped>\n",
       "    .dataframe tbody tr th:only-of-type {\n",
       "        vertical-align: middle;\n",
       "    }\n",
       "\n",
       "    .dataframe tbody tr th {\n",
       "        vertical-align: top;\n",
       "    }\n",
       "\n",
       "    .dataframe thead th {\n",
       "        text-align: right;\n",
       "    }\n",
       "</style>\n",
       "<table border=\"1\" class=\"dataframe\">\n",
       "  <thead>\n",
       "    <tr style=\"text-align: right;\">\n",
       "      <th></th>\n",
       "      <th>id</th>\n",
       "      <th>target</th>\n",
       "    </tr>\n",
       "  </thead>\n",
       "  <tbody>\n",
       "    <tr>\n",
       "      <th>0</th>\n",
       "      <td>300000</td>\n",
       "      <td>1</td>\n",
       "    </tr>\n",
       "    <tr>\n",
       "      <th>1</th>\n",
       "      <td>300001</td>\n",
       "      <td>1</td>\n",
       "    </tr>\n",
       "    <tr>\n",
       "      <th>2</th>\n",
       "      <td>300002</td>\n",
       "      <td>1</td>\n",
       "    </tr>\n",
       "    <tr>\n",
       "      <th>3</th>\n",
       "      <td>300003</td>\n",
       "      <td>0</td>\n",
       "    </tr>\n",
       "    <tr>\n",
       "      <th>4</th>\n",
       "      <td>300004</td>\n",
       "      <td>1</td>\n",
       "    </tr>\n",
       "  </tbody>\n",
       "</table>\n",
       "</div>"
      ],
      "text/plain": [
       "       id  target\n",
       "0  300000       1\n",
       "1  300001       1\n",
       "2  300002       1\n",
       "3  300003       0\n",
       "4  300004       1"
      ]
     },
     "execution_count": 199,
     "metadata": {},
     "output_type": "execute_result"
    }
   ],
   "source": [
    "sub.head()"
   ]
  },
  {
   "cell_type": "code",
   "execution_count": 200,
   "id": "7fa03d77",
   "metadata": {},
   "outputs": [],
   "source": [
    "sub.to_csv('submit.csv', index=False)"
   ]
  }
 ],
 "metadata": {
  "kernelspec": {
   "display_name": "Python 3 (ipykernel)",
   "language": "python",
   "name": "python3"
  },
  "language_info": {
   "codemirror_mode": {
    "name": "ipython",
    "version": 3
   },
   "file_extension": ".py",
   "mimetype": "text/x-python",
   "name": "python",
   "nbconvert_exporter": "python",
   "pygments_lexer": "ipython3",
   "version": "3.7.11"
  }
 },
 "nbformat": 4,
 "nbformat_minor": 5
}
